{
 "cells": [
  {
   "cell_type": "code",
   "execution_count": 4,
   "id": "b40f3c94-3a7f-467a-963f-383b300f9914",
   "metadata": {},
   "outputs": [],
   "source": [
    "import os\n",
    "import openai\n",
    "from openai import OpenAI\n",
    "import requests, json\n",
    "OLLAMA_URL = \"http://localhost:11434/api/generate\""
   ]
  },
  {
   "cell_type": "code",
   "execution_count": 6,
   "id": "43954138-cfe5-4a07-9e27-bfd16d999c34",
   "metadata": {},
   "outputs": [],
   "source": [
    "\"\"\"\n",
    "LLM plays Minesweeper N times\n",
    "\"\"\"\n",
    "\n",
    "from __future__ import annotations\n",
    "import random, json, csv, time\n",
    "from dataclasses import dataclass, asdict\n",
    "from pathlib import Path\n",
    "from typing import List, Tuple, Literal\n",
    "\n",
    "import openai\n",
    "import pandas as pd\n",
    "from tqdm import trange\n",
    "\n",
    "#  A. Python Minesweeper engine \n",
    "class MinesweeperBoard:\n",
    "    NEIGHB = (\n",
    "        (-1, -1), (-1,  0), (-1,  1),\n",
    "        ( 0, -1),          ( 0,  1),\n",
    "        ( 1, -1), ( 1,  0), ( 1,  1),\n",
    "    )\n",
    "\n",
    "    def __init__(self, rows: int, cols: int, mines: int, rng=random):\n",
    "        if not (0 < mines < rows * cols):\n",
    "            raise ValueError(\"mines must be in (0, rows*cols)\")\n",
    "        self.R, self.C, self.M = rows, cols, mines\n",
    "        self._rng = rng\n",
    "\n",
    "        # actual content (hidden from player)\n",
    "        self._grid: List[List[str]] = [[\"0\"] * cols for _ in range(rows)]\n",
    "        self._lay_mines()\n",
    "        self._fill_numbers()\n",
    "\n",
    "        # player’s view: \"□\" unknown, \"⚑\" flagged, \"0-8\" open numbers\n",
    "        self.view  = [[\"□\"] * cols for _ in range(rows)]\n",
    "        self.opened = 0\n",
    "        self.finished, self.win = False, False\n",
    "\n",
    "    # internal helpers --------------------------------------------------------\n",
    "    def _lay_mines(self):\n",
    "        cells = self._rng.sample(range(self.R * self.C), self.M)\n",
    "        for idx in cells:\n",
    "            r, c = divmod(idx, self.C)\n",
    "            self._grid[r][c] = \"*\"\n",
    "\n",
    "    def _fill_numbers(self):\n",
    "        def around(r, c):  # count adjacent mines\n",
    "            return sum(\n",
    "                1 for dr, dc in self.NEIGHB\n",
    "                if 0 <= r+dr < self.R and 0 <= c+dc < self.C\n",
    "                and self._grid[r+dr][c+dc] == \"*\"\n",
    "            )\n",
    "        for r in range(self.R):\n",
    "            for c in range(self.C):\n",
    "                if self._grid[r][c] == \"*\": continue\n",
    "                self._grid[r][c] = str(around(r, c))\n",
    "\n",
    "    # public API --------------------------------------------------------------\n",
    "    def step(self, r: int, c: int, action: Literal[\"open\", \"flag\"]) -> str:\n",
    "        \"\"\"Returns one of {\"ok\", \"hit-mine\", \"invalid\", \"already\"}\"\"\"\n",
    "        if self.finished:            return \"invalid\"\n",
    "        if not (0 <= r < self.R and 0 <= c < self.C): return \"invalid\"\n",
    "\n",
    "        cell = self.view[r][c]\n",
    "\n",
    "        if action == \"flag\":\n",
    "            if cell in (\"□\", \"⚑\"):\n",
    "                self.view[r][c] = \"⚑\" if cell == \"□\" else \"□\"\n",
    "                return \"ok\"\n",
    "            return \"already\"\n",
    "\n",
    "        # action == \"open\"\n",
    "        if cell != \"□\":              return \"already\"\n",
    "        if self._grid[r][c] == \"*\":\n",
    "            self.view[r][c] = \"*\"\n",
    "            self.finished = True\n",
    "            self.win = False\n",
    "            return \"hit-mine\"\n",
    "        self._flood_fill(r, c)\n",
    "        if self.opened == self.R * self.C - self.M:\n",
    "            self.finished = True\n",
    "            self.win = True\n",
    "        return \"ok\"\n",
    "\n",
    "    def _flood_fill(self, r, c, seen=None):\n",
    "        if seen is None: seen = set()\n",
    "        if (r, c) in seen or self.view[r][c] != \"□\": return\n",
    "        seen.add((r, c))\n",
    "        self.view[r][c] = self._grid[r][c]\n",
    "        self.opened += 1\n",
    "        if self._grid[r][c] == \"0\":\n",
    "            for dr, dc in self.NEIGHB:\n",
    "                nr, nc = r+dr, c+dc\n",
    "                if 0 <= nr < self.R and 0 <= nc < self.C:\n",
    "                    self._flood_fill(nr, nc, seen)\n",
    "\n",
    "    # formats -----------------------------------------------------------------\n",
    "    def player_view_str(self) -> str:\n",
    "        return \"\\n\".join(\" \".join(row) for row in self.view)\n",
    "\n",
    "    def reveal_str(self) -> str:\n",
    "        \"\"\"Original grid with mines visible – for logging/debug.\"\"\"\n",
    "        return \"\\n\".join(\" \".join(row) for row in self._grid)\n",
    "\n",
    "# Dataclass for a single game result\n",
    "@dataclass\n",
    "class GameRecord:\n",
    "    game_id   : int\n",
    "    rows      : int\n",
    "    cols      : int\n",
    "    mines     : int\n",
    "    moves     : int\n",
    "    outcome   : Literal[\"win\", \"loss\"]\n",
    "    duration_s: float\n",
    "    rng_seed  : int\n",
    "\n",
    "\n",
    "\n",
    "# Run a batch of games\n",
    "def run_experiment(n_games=5,\n",
    "                   rows=10, cols=10, mines=15,\n",
    "                   temperature=0.0):\n",
    "    records: List[GameRecord] = []\n",
    "    for gid in trange(1, n_games + 1, desc=\"Games\"):\n",
    "        seed = random.randrange(2**32)\n",
    "        rec = play_one(gid, rows, cols, mines, temperature, seed=seed)\n",
    "        records.append(rec)\n",
    "\n",
    "        # write incrementally (safe if kernel crashes mid-way)\n",
    "        with open(\"results.csv\", \"a\", newline=\"\") as f:\n",
    "            w = csv.DictWriter(f, fieldnames=GameRecord.__annotations__.keys())\n",
    "            if f.tell() == 0: w.writeheader()\n",
    "            w.writerow(asdict(rec))\n",
    "\n",
    "    # Summary\n",
    "    df = pd.DataFrame([asdict(r) for r in records])\n",
    "    print(\"\\nBatch summary:\")\n",
    "    print(df.groupby(\"outcome\").size())\n",
    "    print(\"Mean moves:\", df[\"moves\"].mean())"
   ]
  },
  {
   "cell_type": "code",
   "execution_count": 10,
   "id": "2a82df6b-a3c9-425b-a843-84cf30d06cb6",
   "metadata": {},
   "outputs": [],
   "source": [
    "# ────────────────────────────────────────────────────────────────\n",
    "#  Probability helper – fast heuristic, no heavy CSP needed\n",
    "# ────────────────────────────────────────────────────────────────\n",
    "def compute_probabilities(board) -> dict[tuple[int, int], float]:\n",
    "    \"\"\"\n",
    "    Return P(cell has a mine) for every still-unknown square.\n",
    "\n",
    "    Heuristic:\n",
    "      • For every opened number N with U unknown neighbours and F flags,\n",
    "        each of those U squares carries base-prob  (N-F)/U.\n",
    "      • A cell may be adjacent to several numbers – average their values.\n",
    "      • Non-frontier unknowns get a 'global' probability:\n",
    "            (remaining_mines) / (remaining_unknown_cells).\n",
    "    Good enough for >80 % wins; you can swap in a Monte-Carlo sampler later\n",
    "    without touching the solver loop.\n",
    "    \"\"\"\n",
    "    frontier_probs: dict[tuple[int, int], list[float]] = {}\n",
    "    remaining_mines = board.M - sum(\n",
    "        1 for r in range(board.R) for c in range(board.C) if board.view[r][c] == \"⚑\"\n",
    "    )\n",
    "\n",
    "    # Pass 1 – collect constraints from every opened number\n",
    "    for r in range(board.R):\n",
    "        for c in range(board.C):\n",
    "            ch = board.view[r][c]\n",
    "            if ch.isdigit():\n",
    "                N = int(ch)\n",
    "                flags, unknowns = 0, []\n",
    "                for dr, dc in board.NEIGHB:\n",
    "                    nr, nc = r + dr, c + dc\n",
    "                    if 0 <= nr < board.R and 0 <= nc < board.C:\n",
    "                        if board.view[nr][nc] == \"⚑\":\n",
    "                            flags += 1\n",
    "                        elif board.view[nr][nc] == \"□\":\n",
    "                            unknowns.append((nr, nc))\n",
    "                if unknowns:\n",
    "                    p = (N - flags) / len(unknowns)\n",
    "                    for cell in unknowns:\n",
    "                        frontier_probs.setdefault(cell, []).append(p)\n",
    "\n",
    "    # Pass 2 – average multiple contributions\n",
    "    probs: dict[tuple[int, int], float] = {}\n",
    "    for cell, plist in frontier_probs.items():\n",
    "        probs[cell] = sum(plist) / len(plist)\n",
    "\n",
    "    # Non-frontier unknowns (“deep fog” squares)\n",
    "    unknown_cells = [\n",
    "        (r, c)\n",
    "        for r in range(board.R)\n",
    "        for c in range(board.C)\n",
    "        if board.view[r][c] == \"□\"\n",
    "    ]\n",
    "    global_p = remaining_mines / len(unknown_cells) if unknown_cells else 0.0\n",
    "    for cell in unknown_cells:\n",
    "        probs.setdefault(cell, global_p)\n",
    "\n",
    "    return probs\n",
    "\n",
    "\n",
    "def play_one(game_id: int,\n",
    "             rows=9, cols=9, mines=10,\n",
    "             temperature=0.0, max_moves=500, seed=None):\n",
    "    rng   = random.Random(seed)\n",
    "    board = MinesweeperBoard(rows, cols, mines, rng=rng)\n",
    "    start = time.time()\n",
    "    moves = 0\n",
    "\n",
    "    while not board.finished and moves < max_moves:\n",
    "        # 1.  Run classical deterministic rules until nothing changes\n",
    "        changed = True\n",
    "        while changed and not board.finished:\n",
    "            changed = deterministic_step(board)  # <-- implement or reuse\n",
    "            moves  += int(changed)\n",
    "\n",
    "        if board.finished: break  # won through pure logic\n",
    "\n",
    "        # 2.  Probability pass\n",
    "        probs   = compute_probabilities(board)\n",
    "        min_p   = min(probs.values())\n",
    "        best    = [cell for cell, p in probs.items() if abs(p - min_p) < 1e-9]\n",
    "\n",
    "        if len(best) == 1:\n",
    "            r, c = best[0]          # clear favourite – open directly\n",
    "        else:\n",
    "            r, c, _ = query_llm(board, best, probs, temperature)\n",
    "\n",
    "        board.step(r, c, \"open\")\n",
    "        moves += 1\n",
    "\n",
    "    duration = time.time() - start\n",
    "    return GameRecord(\n",
    "        game_id, rows, cols, mines, moves,\n",
    "        \"win\" if board.win else \"loss\",\n",
    "        round(duration, 3), seed or 0\n",
    "    )\n",
    "\n",
    "\n",
    "def deterministic_step(board) -> bool:\n",
    "    \"\"\"\n",
    "    Apply the standard single-point rule once.\n",
    "    Return True if *anything* was opened or flagged.\n",
    "    \"\"\"\n",
    "    for r in range(board.R):\n",
    "        for c in range(board.C):\n",
    "            ch = board.view[r][c]\n",
    "            if ch.isdigit() and ch != \"0\":\n",
    "                n = int(ch)\n",
    "                unknowns, flags = [], 0\n",
    "                for dr, dc in board.NEIGHB:\n",
    "                    nr, nc = r + dr, c + dc\n",
    "                    if 0 <= nr < board.R and 0 <= nc < board.C:\n",
    "                        v = board.view[nr][nc]\n",
    "                        if v == \"□\":\n",
    "                            unknowns.append((nr, nc))\n",
    "                        elif v == \"⚑\":\n",
    "                            flags += 1\n",
    "\n",
    "                if unknowns and n - flags == len(unknowns):\n",
    "                    # all unknowns are mines → flag them\n",
    "                    for cell in unknowns:\n",
    "                        board.step(*cell, action=\"flag\")\n",
    "                    return True\n",
    "                if unknowns and flags == n:\n",
    "                    # all other unknowns are safe → open them\n",
    "                    for cell in unknowns:\n",
    "                        board.step(*cell, action=\"open\")\n",
    "                    return True\n",
    "    return False"
   ]
  },
  {
   "cell_type": "code",
   "execution_count": null,
   "id": "f3a9fc94-a950-4b06-bc23-db01cd5a911b",
   "metadata": {},
   "outputs": [],
   "source": [
    "def query_llm(board, candidate_cells, probs, temperature=0.0):\n",
    "    prob_table = \"\\n\".join(\n",
    "        f\"({r},{c})  P≈{probs[(r,c)]:.3f}\" for (r, c) in candidate_cells\n",
    "    )\n",
    "\n",
    "    prompt = f\"\"\"\n",
    "You are playing Minesweeper. The deterministic solver found several squares\n",
    "with the *lowest current mine probability*. Pick ONE to open next.\n",
    "\n",
    "Respond ONLY with JSON like:\n",
    "{{\"row\":R,\"col\":C,\"action\":\"open\"}}\n",
    "\n",
    "Tied candidates and their probabilities:\n",
    "{prob_table}\n",
    "\n",
    "Full board (□ = unknown, ⚑ = flag):\n",
    "{board.player_view_str()}\n",
    "\"\"\"\n",
    "\n",
    "    # Send request\n",
    "    resp = requests.post(\n",
    "        OLLAMA_URL,\n",
    "        json={\n",
    "            \"model\": \"llama3:8b\",  # Use the correct model name\n",
    "            \"prompt\": prompt.strip(),\n",
    "            \"temperature\": temperature,\n",
    "            \"stream\": True  # default anyway, but keeping it explicit\n",
    "        },\n",
    "        stream=True  # Important to handle streamed lines\n",
    "    )\n",
    "\n",
    "    if resp.status_code != 200:\n",
    "        print(\"Error:\", resp.status_code, resp.text)\n",
    "        r, c = candidate_cells[0]\n",
    "        return r, c, \"open\"\n",
    "\n",
    "    # Collect all parts of streamed response\n",
    "    full_response = \"\"\n",
    "    for line in resp.iter_lines():\n",
    "        if line:\n",
    "            try:\n",
    "                json_data = json.loads(line.decode('utf-8'))\n",
    "                full_response += json_data.get(\"response\", \"\")\n",
    "            except Exception as e:\n",
    "                print(\"Stream parse error:\", e)\n",
    "                continue\n",
    "\n",
    "    #print(\"Model reply:\", full_response)\n",
    "\n",
    "    # Try to extract JSON from final message\n",
    "    try:\n",
    "        move = json.loads(full_response.strip().split(\"```\")[-1] if \"```\" in full_response else full_response)\n",
    "        return int(move[\"row\"]), int(move[\"col\"]), \"open\"\n",
    "    except Exception as e:\n",
    "        #print(\"JSON decode fallback:\", e)\n",
    "        r, c = candidate_cells[0]\n",
    "        return r, c, \"open\"\n"
   ]
  },
  {
   "cell_type": "code",
   "execution_count": 22,
   "id": "81ac943f-fedb-4108-8743-ba4e7d2ef8b7",
   "metadata": {},
   "outputs": [
    {
     "name": "stderr",
     "output_type": "stream",
     "text": [
      "Games:   0%|                                                | 0/5 [00:00<?, ?it/s]"
     ]
    },
    {
     "name": "stdout",
     "output_type": "stream",
     "text": [
      "Model reply: {\"row\":0,\"col\":0,\"action\":\"open\"}\n",
      "Model reply: {\"row\":0,\"col\":2,\"action\":\"open\"}\n"
     ]
    },
    {
     "name": "stderr",
     "output_type": "stream",
     "text": [
      "Games:  20%|████████                                | 1/5 [00:27<01:49, 27.46s/it]"
     ]
    },
    {
     "name": "stdout",
     "output_type": "stream",
     "text": [
      "Model reply: {\"row\":0,\"col\":4,\"action\":\"open\"}\n",
      "Model reply: {\"row\":0,\"col\":0,\"action\":\"open\"}\n",
      "Model reply: {\"row\":0,\"col\":3,\"action\":\"open\"}\n",
      "Model reply: {\"row\":7,\"col\":5,\"action\":\"open\"}\n"
     ]
    },
    {
     "name": "stderr",
     "output_type": "stream",
     "text": [
      "Games:  40%|████████████████                        | 2/5 [00:48<01:10, 23.59s/it]"
     ]
    },
    {
     "name": "stdout",
     "output_type": "stream",
     "text": [
      "Model reply: {\"row\":8,\"col\":7,\"action\":\"open\"}\n",
      "Model reply: {\"row\":0,\"col\":0,\"action\":\"open\"}\n"
     ]
    },
    {
     "name": "stderr",
     "output_type": "stream",
     "text": [
      "Games:  60%|████████████████████████                | 3/5 [01:03<00:39, 19.64s/it]"
     ]
    },
    {
     "name": "stdout",
     "output_type": "stream",
     "text": [
      "Model reply: {\"row\":3,\"col\":0,\"action\":\"open\"}\n",
      "Model reply: {\"row\":0,\"col\":0,\"action\":\"open\"}\n"
     ]
    },
    {
     "name": "stderr",
     "output_type": "stream",
     "text": [
      "Games:  80%|████████████████████████████████        | 4/5 [01:20<00:18, 18.59s/it]"
     ]
    },
    {
     "name": "stdout",
     "output_type": "stream",
     "text": [
      "Model reply: {\"row\":0,\"col\":2,\"action\":\"open\"}\n",
      "Model reply: {\"row\":0,\"col\":0,\"action\":\"open\"}\n"
     ]
    },
    {
     "name": "stderr",
     "output_type": "stream",
     "text": [
      "Games: 100%|████████████████████████████████████████| 5/5 [01:31<00:00, 18.30s/it]"
     ]
    },
    {
     "name": "stdout",
     "output_type": "stream",
     "text": [
      "Model reply: {\"row\":7,\"col\":0,\"action\":\"open\"}\n",
      "\n",
      "Batch summary:\n",
      "outcome\n",
      "loss    2\n",
      "win     3\n",
      "dtype: int64\n",
      "Mean moves: 16.6\n"
     ]
    },
    {
     "name": "stderr",
     "output_type": "stream",
     "text": [
      "\n"
     ]
    }
   ],
   "source": [
    "if __name__ == \"__main__\":\n",
    "    run_experiment(n_games=5, rows=9, cols=9, mines=10, temperature=0.2)"
   ]
  },
  {
   "cell_type": "code",
   "execution_count": 23,
   "id": "0b5589c4-9ab8-4dd0-8b72-3ebeaba7999b",
   "metadata": {},
   "outputs": [
    {
     "name": "stderr",
     "output_type": "stream",
     "text": [
      "Games:  10%|███▉                                   | 1/10 [00:27<04:08, 27.61s/it]"
     ]
    },
    {
     "name": "stdout",
     "output_type": "stream",
     "text": [
      "Model reply: {\"row\": 0, \"col\": 0, \"action\": \"open\"}\n",
      "Model reply: {\"row\":0,\"col\":0,\"action\":\"open\"}\n",
      "Model reply: {\"row\":0,\"col\":0,\"action\":\"open\"}\n",
      "Model reply: {\"row\":0,\"col\":0,\"action\":\"open\"}\n",
      "Model reply: {\"row\":0,\"col\":0,\"action\":\"open\"}\n",
      "Model reply: {\"row\":0,\"col\":0,\"action\":\"open\"}\n",
      "Model reply: {\"row\":0,\"col\":0,\"action\":\"open\"}\n",
      "Model reply: {\"row\":0,\"col\":0,\"action\":\"open\"}\n",
      "Model reply: {\"row\": 0, \"col\": 0, \"action\": \"open\"}\n",
      "Model reply: {\"row\":0,\"col\":0,\"action\":\"open\"}\n",
      "Model reply: {\"row\":0,\"col\":0,\"action\":\"open\"}\n",
      "Model reply: {\"row\":0,\"col\":0,\"action\":\"open\"}\n",
      "Model reply: {\"row\":0,\"col\":0,\"action\":\"open\"}\n",
      "Model reply: {\"row\":0,\"col\":0,\"action\":\"open\"}\n",
      "Model reply: {\"row\":0,\"col\":0,\"action\":\"open\"}\n",
      "Model reply: {\"row\":0,\"col\":0,\"action\":\"open\"}\n",
      "Model reply: {\"row\":0,\"col\":0,\"action\":\"open\"}\n",
      "Model reply: {\"row\": 0, \"col\": 0, \"action\": \"open\"}\n",
      "Model reply: {\"row\":0,\"col\":0,\"action\":\"open\"}\n",
      "Model reply: {\"row\": 0, \"col\": 0, \"action\": \"open\"}\n",
      "Model reply: {\"row\": 0, \"col\": 0, \"action\": \"open\"}\n",
      "Model reply: {\"row\":0,\"col\":0,\"action\":\"open\"}\n",
      "Model reply: {\"row\":0,\"col\":0,\"action\":\"open\"}\n",
      "Model reply: {\"row\":0,\"col\":0,\"action\":\"open\"}\n",
      "Model reply: {\"row\": 0, \"col\": 2, \"action\": \"open\"}\n"
     ]
    },
    {
     "name": "stderr",
     "output_type": "stream",
     "text": [
      "Games:  20%|███████▊                               | 2/10 [01:49<07:55, 59.49s/it]"
     ]
    },
    {
     "name": "stdout",
     "output_type": "stream",
     "text": [
      "Model reply: {\"row\":0,\"col\":4,\"action\":\"open\"}\n"
     ]
    },
    {
     "name": "stderr",
     "output_type": "stream",
     "text": [
      "Games:  30%|███████████▋                           | 3/10 [02:14<05:07, 43.89s/it]"
     ]
    },
    {
     "name": "stdout",
     "output_type": "stream",
     "text": [
      "Model reply: {\"row\": 0, \"col\": 0, \"action\": \"open\"}\n"
     ]
    },
    {
     "name": "stderr",
     "output_type": "stream",
     "text": [
      "Games:  40%|███████████████▌                       | 4/10 [02:16<02:43, 27.18s/it]"
     ]
    },
    {
     "name": "stdout",
     "output_type": "stream",
     "text": [
      "Model reply: {\"row\": 0, \"col\": 0, \"action\": \"open\"}\n"
     ]
    },
    {
     "name": "stderr",
     "output_type": "stream",
     "text": [
      "Games:  50%|███████████████████▌                   | 5/10 [02:17<01:28, 17.78s/it]"
     ]
    },
    {
     "name": "stdout",
     "output_type": "stream",
     "text": [
      "Model reply: {\"row\":0,\"col\":0,\"action\":\"open\"}\n"
     ]
    },
    {
     "name": "stderr",
     "output_type": "stream",
     "text": [
      "Games:  60%|███████████████████████▍               | 6/10 [02:18<00:48, 12.12s/it]"
     ]
    },
    {
     "name": "stdout",
     "output_type": "stream",
     "text": [
      "Model reply: {\"row\":0,\"col\":0,\"action\":\"open\"}\n"
     ]
    },
    {
     "name": "stderr",
     "output_type": "stream",
     "text": [
      "Games:  70%|███████████████████████████▎           | 7/10 [02:20<00:26,  8.68s/it]"
     ]
    },
    {
     "name": "stdout",
     "output_type": "stream",
     "text": [
      "Model reply: {\"row\": 0, \"col\": 0, \"action\": \"open\"}\n"
     ]
    },
    {
     "name": "stderr",
     "output_type": "stream",
     "text": [
      "Games:  80%|███████████████████████████████▏       | 8/10 [02:21<00:12,  6.48s/it]"
     ]
    },
    {
     "name": "stdout",
     "output_type": "stream",
     "text": [
      "Model reply: {\"row\": 0, \"col\": 0, \"action\": \"open\"}\n"
     ]
    },
    {
     "name": "stderr",
     "output_type": "stream",
     "text": [
      "Games:  90%|███████████████████████████████████    | 9/10 [02:24<00:05,  5.27s/it]"
     ]
    },
    {
     "name": "stdout",
     "output_type": "stream",
     "text": [
      "Model reply: {\"row\":0,\"col\":0,\"action\":\"open\"}\n"
     ]
    },
    {
     "name": "stderr",
     "output_type": "stream",
     "text": [
      "Games: 100%|██████████████████████████████████████| 10/10 [02:27<00:00, 14.72s/it]"
     ]
    },
    {
     "name": "stdout",
     "output_type": "stream",
     "text": [
      "Model reply: {\"row\": 0, \"col\": 0, \"action\": \"open\"}\n",
      "\n",
      "Batch summary:\n"
     ]
    },
    {
     "name": "stderr",
     "output_type": "stream",
     "text": [
      "\n"
     ]
    },
    {
     "name": "stdout",
     "output_type": "stream",
     "text": [
      "outcome\n",
      "loss    1\n",
      "win     9\n",
      "dtype: int64\n",
      "Mean moves: 26.4\n"
     ]
    }
   ],
   "source": [
    "if __name__ == \"__main__\":\n",
    "    run_experiment(n_games=10, rows=15, cols=15, mines=15, temperature=0.2)"
   ]
  },
  {
   "cell_type": "code",
   "execution_count": 24,
   "id": "964c15d2-9f67-4f2c-bfdd-fb367727904e",
   "metadata": {},
   "outputs": [
    {
     "name": "stderr",
     "output_type": "stream",
     "text": [
      "Games:   4%|█▌                                     | 1/25 [01:07<26:52, 67.20s/it]"
     ]
    },
    {
     "name": "stdout",
     "output_type": "stream",
     "text": [
      "Model reply: A Minesweeper puzzle!\n",
      "\n",
      "The deterministic solver has found several squares with the *lowest current mine probability*, which are marked with `*`.\n",
      "\n",
      "Now it's my turn to play. I'll start by flagging some suspicious squares.\n",
      "\n",
      "Here are my first moves:\n",
      "\n",
      "Flag: (19,13)\n",
      "Flag: (17,7)\n",
      "Flag: (11,5)\n",
      "\n",
      "And here's the updated board:\n",
      "\n",
      "□ □ □ □ □ □ □ □ □ □ □ □ □ □ □ □ □ □ □ □\n",
      "□ □ ⚑ □ □ □ □ □ □ □ □ □ □ □ □ □ □ □ □\n",
      "□ □ □ □ □ □ □ □ □ □ □ □ □ □ □ □ □ □ □ □\n",
      "□ □ □ □ □ □ □ □ □ □ □ □ □ □ □ □ □ □ □ □\n",
      "□ □ □ □ □ □ □ □ □ □ □ □ □ □ □ □ □ □ □ □\n",
      "□ □ ⚑ □ □ □ □ □ □ □ □ □ □ □ □ □ □ □ □\n",
      "□ □ □ □ □ □ □ □ □ □ □ □ □ □ □ □ □ □ □ □\n",
      "□ □ □ □ □ □ □ □ □ □ □ □ □ □ □ □ □ □ □ □\n",
      "□ □ □ □ □ □ □ □ □ □ □ □ □ □ □ □ □ □ □ □\n",
      "\n",
      "What's next?\n",
      "JSON decode fallback: Expecting value: line 1 column 1 (char 0)\n",
      "Model reply: It looks like you're playing Minesweeper!\n",
      "\n",
      "The deterministic solver has found several squares with the lowest current mine probability, which is indicated by the * symbol. These squares are likely to have mines nearby.\n",
      "\n",
      "As for the full board, it appears to be a blank slate with unknown values (□) and no flags set yet (⚑). The game is waiting for you to make your next move!\n",
      "JSON decode fallback: Expecting value: line 1 column 1 (char 0)\n",
      "Model reply: A game of Minesweeper!\n",
      "\n",
      "The deterministic solver has found several squares with a * lowest current mine count, indicating that they are likely to be safe. Let's flag those squares as ⚑:\n",
      "\n",
      "⚑ ⚑ ⚑ ⚑ ⚑ ⚑ ⚑ ⚑ ⚑ ⚑\n",
      "\n",
      "Now it's your turn! Which squares would you like to open? Remember, the goal is to clear all the mines without detonating any of them.\n",
      "JSON decode fallback: Expecting value: line 1 column 1 (char 0)\n",
      "Model reply: You're stuck in Minesweeper! Don't worry, I'm here to help. Let's start by analyzing the situation.\n",
      "\n",
      "We have a full board with unknown squares (□) and flags (⚑). The deterministic solver has found several squares with the *lowest current mine count*, which is 0.075.\n",
      "\n",
      "Since we don't know where the mines are, our goal is to make educated guesses about which squares might be safe or suspicious. We can do this by looking for patterns, such as:\n",
      "\n",
      "1. Clusters of low-mine-count squares: If multiple squares have a low mine count, it's possible that they're all safe.\n",
      "2. Squares with no adjacent mines: If a square has no adjacent mines (horizontally, vertically, or diagonally), it might be safer than others.\n",
      "\n",
      "Based on these observations, which square would you like to flag as suspicious (⚑) or mark as safe (□)?\n",
      "JSON decode fallback: Expecting value: line 1 column 1 (char 0)\n",
      "Model reply: The deterministic solver has identified several squares with the lowest current mine count. These squares are:\n",
      "\n",
      "1, 2, 3, ...\n",
      "19\n",
      "\n",
      "These squares have a mine count of *0.076*.\n",
      "JSON decode fallback: Expecting value: line 1 column 1 (char 0)\n"
     ]
    },
    {
     "name": "stderr",
     "output_type": "stream",
     "text": [
      "Games:   8%|██▉                                 | 2/25 [05:33<1:10:45, 184.60s/it]"
     ]
    },
    {
     "name": "stdout",
     "output_type": "stream",
     "text": [
      "Model reply: It looks like you're playing Minesweeper! You've got a full board with many unknown squares (□) and some flagged squares (⚑). The deterministic solver has told you that there are several squares with the lowest current mine count.\n",
      "\n",
      "As you look at the board, you notice that there aren't any obvious patterns or clusters of mines. However, you do see a few squares that have a relatively low mine count. Those might be good places to start exploring!\n",
      "\n",
      "What would you like to do next? Would you like to:\n",
      "\n",
      "1. Flag a square based on its current mine count?\n",
      "2. Reveal the contents of an unknown square?\n",
      "3. Use a different strategy or tool to help you solve the puzzle?\n",
      "\n",
      "Let me know your move!\n",
      "JSON decode fallback: Expecting value: line 1 column 1 (char 0)\n"
     ]
    },
    {
     "name": "stderr",
     "output_type": "stream",
     "text": [
      "Games:  12%|████▌                                 | 3/25 [06:27<45:39, 124.54s/it]"
     ]
    },
    {
     "name": "stdout",
     "output_type": "stream",
     "text": [
      "Model reply: It looks like you're playing Minesweeper and the deterministic solver has found several squares with the *lowest current mine probability*. That's great progress!\n",
      "\n",
      "To summarize, we have:\n",
      "\n",
      "* A full board with unknown squares (□) and no flagged mines yet (⚑)\n",
      "* The deterministic solver has identified some low-probability mine squares\n",
      "* Our goal is to safely clear the board by flagging mines and avoiding them\n",
      "\n",
      "What would you like to do next?\n",
      "JSON decode fallback: Expecting value: line 1 column 1 (char 0)\n",
      "Model reply: You're playing Minesweeper! The deterministic solver has found some squares with the *lowest current mine density*. This means that these squares are more likely to contain a mine. Let's see...\n",
      "\n",
      "The board looks like this:\n",
      "\n",
      "Full board (□ = unknown, ⚑ = flag):\n",
      "□ □ □ □ □ □ □ □ □ □ □ □ □ □ □ □ □ □ □ □\n",
      "□ □ □ □ □ □ □ □ □ □ □ □ □ □ □ □ □ □ □ □\n",
      "...\n",
      "and so on.\n",
      "\n",
      "The deterministic solver has flagged some squares as likely to contain a mine. These squares are marked with ⚑. Let's start by clicking on one of these squares and see what happens!\n",
      "\n",
      "Which square would you like to click on?\n",
      "JSON decode fallback: Expecting value: line 1 column 1 (char 0)\n",
      "Model reply: I'm playing Minesweeper! 🎉\n",
      "\n",
      "The deterministic solver found several squares with the *lowest current mine count*. These are the squares that I need to focus on first.\n",
      "\n",
      "Here's the full board:\n",
      "```\n",
      "0 0 1 □ □ □ □ □ □ □ □ □ □ □ □ □ □ □ □ □\n",
      "1 1 2 □ □ □ □ □ □ □ □ □ □ □ □ □ □ □ □ □\n",
      "□ □ □ □ □ □ □ □ □ □ □ □ □ □ □ □ □ □ □ □\n",
      "□ □ □ □ □ □ □ □ □ □ □ □ □ □ □ □ □ □ □ □\n",
      "□ □ □ □ □ □ □ □ □ □ □ □ □ □ □ □ □ □ □ □\n",
      "□ □ □ □ □ □ □ □ □ □ □ □ □ □ □ □ □ □ □ □\n",
      "□ □ □ □ □ □ □ □ □ □ □ □ □ □ □ □ □ □ □ □\n",
      "□ □ □ □ □ □ □ □ □ □ □ □ □ □ □ □ □ □ □ □\n",
      "□ □ □ □ □ □ □ □ □ □ □ □ □ □ □ □ □ □ □ □\n",
      "□ □ □ □ □ □ □ □ □ □ □ □ □ □ □ □ □ □ □ □\n",
      "□ □ □ □ □ □ □ □ □ □ □ □ □ □ □ □ □ □ □ □\n",
      "□ □ □ □ □ □ □ □ □ □ □ □ □ □ □ □ □ □ □ □\n",
      "```\n",
      "The squares with the *lowest current mine count* are:\n",
      "\n",
      "* (0, 0)\n",
      "* (1, 1)\n",
      "* (2, 2)\n",
      "\n",
      "These are the squares that I need to focus on first.\n",
      "JSON decode fallback: Expecting value: line 2 column 1 (char 1)\n"
     ]
    },
    {
     "name": "stderr",
     "output_type": "stream",
     "text": [
      "Games:  16%|██████                                | 4/25 [10:11<57:23, 163.98s/it]"
     ]
    },
    {
     "name": "stdout",
     "output_type": "stream",
     "text": [
      "Model reply: I see you're trying to solve Minesweeper!\n",
      "\n",
      "The deterministic solver found several squares with the *lowest current mine density*, but I'll help you play it out.\n",
      "\n",
      "Let's focus on a specific square, say... (17, 10). Since it has a mine density of 0.076, it's likely not a mine. You can flag or click on this square to reveal its content.\n",
      "\n",
      "What would you like to do?\n",
      "\n",
      "1. Flag the square\n",
      "2. Click on the square\n",
      "\n",
      "Please respond with either \"Flag\" or \"Click\".\n",
      "JSON decode fallback: Expecting value: line 1 column 1 (char 0)\n"
     ]
    },
    {
     "name": "stderr",
     "output_type": "stream",
     "text": [
      "Games:  20%|███████▌                              | 5/25 [11:26<44:01, 132.07s/it]"
     ]
    },
    {
     "name": "stdout",
     "output_type": "stream",
     "text": [
      "Model reply: What a mess!\n",
      "\n",
      "You've got a Minesweeper board with nearly 400 squares, and almost all of them have the same probability of containing a mine (0.075). This makes it very challenging to make any progress without some clever strategy.\n",
      "\n",
      "Let's try to use the deterministic solver to help us out. Since we know that the *lowest current mine* is in one of these squares, let's focus on finding it first. We can start by guessing an unknown square and then recursively solve the smaller board that remains after removing the mines adjacent to the guessed square.\n",
      "\n",
      "Let me think for a moment... Ah-ha! I think I have a plan. Let's start by guessing the top-left corner square (1, 1). If it's not a mine, we can remove its adjacent squares and repeat the process until we find the lowest current mine.\n",
      "\n",
      "What do you say? Are you ready to give this strategy a try?\n",
      "JSON decode fallback: Expecting value: line 1 column 1 (char 0)\n",
      "Model reply: A Minesweeper board!\n",
      "\n",
      "From the deterministic solver's output, I see that many squares have been marked with a probability of 0.075 (indicated by `P≈0.075`). This suggests that there are likely to be mines in those locations.\n",
      "\n",
      "As for the full board, it appears to be almost entirely unknown (`□`) with no flags yet placed (`⚑`). There doesn't seem to be any clear pattern or cluster of potential mine locations at this point.\n",
      "\n",
      "What would you like to do next? Would you like to flag some suspicious squares based on the probabilities or try a different strategy?\n",
      "JSON decode fallback: Expecting value: line 1 column 1 (char 0)\n",
      "Model reply: It looks like you're stuck in a rather... interesting situation.\n",
      "\n",
      "As the deterministic solver has already revealed some squares with mines, my task is to help you figure out which ones are safe and which ones might be hiding a nasty surprise.\n",
      "\n",
      "Let's take a closer look at the board:\n",
      "\n",
      "```\n",
      "1 □ □ □ ... (and so on)\n",
      "```\n",
      "\n",
      "I'll need more information about the mine distribution to make any progress. Can you tell me how many mines are currently revealed, and where they're located?\n",
      "JSON decode fallback: Expecting value: line 3 column 1 (char 2)\n",
      "Model reply: I see we have a Minesweeper game!\n",
      "\n",
      "The deterministic solver has found some squares with the *lowest current mine count*, which are marked with `*`.\n",
      "\n",
      "Your turn! Which square would you like to flag (⚑) or reveal (□)?\n",
      "JSON decode fallback: Expecting value: line 1 column 1 (char 0)\n",
      "Model reply: It looks like you're trying to play Minesweeper! You've got a big board with a lot of squares, and some of them have mines marked with ⚑. The deterministic solver found several squares that are likely to have mines nearby.\n",
      "\n",
      "Let's take a look at the board together. Which square would you like to click on next? Remember, you can use the information from the other squares to help you figure out which ones might be safe and which ones might be mines.\n",
      "JSON decode fallback: Expecting value: line 1 column 1 (char 0)\n",
      "Model reply: It looks like you're trying to play Minesweeper!\n",
      "\n",
      "The deterministic solver has found several squares with the lowest current mine count. These are marked with a * symbol.\n",
      "\n",
      "Here's your current board:\n",
      "```\n",
      "1 □ 2 □ 2 □ 1 □ □ □ □ □ □ □ □ □ □ □\n",
      "□ □ □ □ □ □ □ □ □ □ □ □ □ □ □ □\n",
      "□ □ □ □ □ □ □ □ □ □ □ □ □ □ □ □\n",
      "...\n",
      "```\n",
      "And here's the flag you've placed so far:\n",
      "```\n",
      "⚑ ⚑ ⚑ ⚑ ⚑ ⚑ ⚑ ⚑ ⚑ ⚑ ⚑ ⚑ ⚑ ⚑ ⚑\n",
      "```\n",
      "What would you like to do next?\n",
      "JSON decode fallback: Expecting value: line 2 column 1 (char 1)\n"
     ]
    },
    {
     "name": "stderr",
     "output_type": "stream",
     "text": [
      "Games:  24%|████████▋                           | 6/25 [17:52<1:09:07, 218.28s/it]"
     ]
    },
    {
     "name": "stdout",
     "output_type": "stream",
     "text": [
      "Model reply: It looks like you've encountered a rather... extensive Minesweeper board!\n",
      "\n",
      "To begin with, I'll summarize the situation:\n",
      "\n",
      "* The deterministic solver has found several squares with the lowest current mine probability (all marked with *).\n",
      "* You have the full board available, which includes the initial state and the solved regions.\n",
      "\n",
      "Now, let's discuss possible next steps. Since we know there are mines in some of these low-probability areas, our goal is to carefully clear the board without triggering any explosions.\n",
      "\n",
      "Some potential strategies include:\n",
      "\n",
      "1. **Flagging suspicious cells**: Identify cells with high mine probability (e.g., * symbols) and flag them as \"likely mines.\" This can help us avoid accidentally revealing hidden mines.\n",
      "2. **Working from edges**: Start by clearing the board's edges, where mines are less likely to be present. This might give us a foothold for further exploration.\n",
      "3. **Exploring adjacent cells**: When you clear a cell, look at its adjacent neighbors (horizontally, vertically, or diagonally). If one of these cells is marked with *, it could indicate the presence of a mine in that direction.\n",
      "\n",
      "Which approach do you want to try first?\n",
      "JSON decode fallback: Expecting value: line 1 column 1 (char 0)\n",
      "Model reply: You've got a big board to tackle!\n",
      "\n",
      "As the deterministic solver found several squares with the lowest current mine count, we can start by exploring those areas. Let's try to clear some of these low-mine-count squares and see if we can uncover any more mines.\n",
      "\n",
      "Which square would you like to open first?\n",
      "JSON decode fallback: Expecting value: line 1 column 1 (char 0)\n",
      "Model reply: A Minesweeper game!\n",
      "\n",
      "Based on the deterministic solver's output, you have a board with many unknown squares (`□`) and no flagged squares (`⚑`). The deterministic solver found several squares that are most likely to contain mines, marked with `*`.\n",
      "\n",
      "To play, I'll guide you through the process of flagging squares as suspected mine locations. You can ask me questions like:\n",
      "\n",
      "1. \"Flag this square\" (e.g., row 5, column 3)\n",
      "2. \"Uncover this square\" (e.g., row 2, column 7)\n",
      "3. \"What's the current probability of a mine in this square?\" (e.g., row 8, column 4)\n",
      "\n",
      "Let me know how you'd like to proceed!\n",
      "JSON decode fallback: Expecting value: line 1 column 1 (char 0)\n",
      "Model reply: The deterministic solver has found several squares with the lowest current mine value of 0.075. This is quite a high concentration of mines!\n",
      "\n",
      "Now it's my turn to play Minesweeper! I'll start by clicking on one of these squares...\n",
      "\n",
      "Let me think for a moment... Ah, I've decided to click on square (1,1).\n",
      "JSON decode fallback: Expecting value: line 1 column 1 (char 0)\n",
      "Model reply: I see you're playing Minesweeper!\n",
      "\n",
      "It looks like the deterministic solver has found several squares with a *lowest current mine probability* of approximately 0.076 (or 7.6%). These are likely to be mines, but we can't be certain until we reveal them.\n",
      "\n",
      "Now it's your turn! Which square would you like to reveal next? Remember to think carefully before making your move, as the game is all about finding a safe path while avoiding those pesky mines!\n",
      "\n",
      "To make a move, simply type the number of the square where you'd like to place your flag (⚑).\n",
      "JSON decode fallback: Expecting value: line 1 column 1 (char 0)\n",
      "Model reply: You've got yourself a nice game of Minesweeper going on!\n",
      "\n",
      "Now, let's analyze the deterministic solver's findings. It seems like many squares have been marked with * indicating that they are likely to be non-mines.\n",
      "\n",
      "With this information, I'll start by flagging all the squares marked with * as \"likely non-mine\". This will give me a better idea of where the mines might be located.\n",
      "\n",
      "Next, I'll focus on finding clusters of non-mine squares. If I find a cluster of non-mine squares, it's likely that there are no mines nearby. In this case, I can safely reveal all the squares in the cluster without worrying about hitting a mine.\n",
      "\n",
      "Let me know when you're ready for me to start making some moves!\n",
      "JSON decode fallback: Expecting value: line 1 column 1 (char 0)\n",
      "Model reply: It looks like you're trying to play Minesweeper!\n",
      "\n",
      "Let me help you out. Based on the deterministic solver's output, it seems that there are some squares with a low probability of containing mines (indicated by the * symbol). These could be potential safe moves.\n",
      "\n",
      "As for the full board, it appears that most of the squares are unknown (represented by □), while a few have already been flagged as possible mines (⚑).\n",
      "\n",
      "What would you like to do next? Do you want to:\n",
      "\n",
      "1. Mark some squares as flags (⚑) or question marks (?) based on the solver's output?\n",
      "2. Make a safe move based on the low-probability squares with * symbols?\n",
      "3. Explore other parts of the board?\n",
      "\n",
      "Let me know, and I'll help guide your next step!\n",
      "JSON decode fallback: Expecting value: line 1 column 1 (char 0)\n",
      "Model reply: You've got a full board of Minesweeper squares! That's quite the puzzle.\n",
      "\n",
      "From what I can see, there are no marked squares yet (⚑). The deterministic solver has identified several squares with the lowest current mine count (*), which is 0.076.\n",
      "\n",
      "As you continue to play, keep in mind that these low-count squares might be mines or not. You'll need to make informed decisions about which ones to flag and which ones to dig up.\n",
      "\n",
      "What's your next move?\n",
      "JSON decode fallback: Expecting value: line 1 column 1 (char 0)\n",
      "Model reply: It looks like you've got a full board of Minesweeper squares! 🚧💥\n",
      "\n",
      "As the deterministic solver found several squares with the *lowest current mine count*, I can help you identify some potential areas to focus on.\n",
      "\n",
      "Let's go through each row and column, looking for any patterns or clues that might indicate where mines are likely to be hidden. 💡\n",
      "\n",
      "Row 1: The top row has a mix of unknown and flagged squares. It seems like there are more unknown squares than flagged ones. This could suggest that the mines are spread out evenly across this row.\n",
      "\n",
      "Row 2-5: These rows have a similar pattern, with more unknown squares than flagged ones. This might indicate that the mines are clustered in certain areas, rather than being randomly distributed.\n",
      "\n",
      "Column 1: The leftmost column has an interesting pattern. There's a sequence of unknown and flagged squares that could suggest there are mines hidden nearby. Keep an eye on this area!\n",
      "\n",
      "Column 2-5: These columns have similar patterns to each other and to Row 1-5, with more unknown squares than flagged ones.\n",
      "\n",
      "Now that we've analyzed the board, let me ask you:\n",
      "\n",
      "What would you like to do next? Do you want to flag some new squares based on our analysis, or try a different approach?\n",
      "\n",
      "Let me know your strategy, and I'll help guide you through the process! 💪\n",
      "JSON decode fallback: Expecting value: line 1 column 1 (char 0)\n"
     ]
    },
    {
     "name": "stderr",
     "output_type": "stream",
     "text": [
      "Games:  28%|██████████                          | 7/25 [27:48<1:42:32, 341.82s/it]"
     ]
    },
    {
     "name": "stdout",
     "output_type": "stream",
     "text": [
      "Model reply: It looks like you've got a full board of Minesweeper squares, with some of them flagged as potential mines (⚑). The deterministic solver has identified several squares with the lowest current mine count. Let's take a closer look!\n",
      "\n",
      "The top-left corner square (1) is marked as ⚑. This means that there might be a mine hidden beneath it. We should be careful when clicking on this square.\n",
      "\n",
      "Moving down to the next row, we have several ⚑ symbols scattered across the board. These squares are also potential mines and should be approached with caution.\n",
      "\n",
      "What would you like to do now? Do you want to:\n",
      "\n",
      "1. Mark another square as a potential mine (⚑)\n",
      "2. Reveal a hidden mine by clicking on an unmarked square\n",
      "3. Flag a different area of the board\n",
      "\n",
      "Choose your next step:\n",
      "JSON decode fallback: Expecting value: line 1 column 1 (char 0)\n"
     ]
    },
    {
     "name": "stderr",
     "output_type": "stream",
     "text": [
      "Games:  32%|███████████▌                        | 8/25 [28:52<1:11:45, 253.26s/it]"
     ]
    },
    {
     "name": "stdout",
     "output_type": "stream",
     "text": [
      "Model reply: A Minesweeper game!\n",
      "\n",
      "The deterministic solver has found several squares with the lowest current mine count, which are:\n",
      "\n",
      "* (7, 5)\n",
      "* (12, 8)\n",
      "* (18, 14)\n",
      "\n",
      "These squares have a mine count of *0*. This means that there is no possible way to place a mine in these positions without losing the game.\n",
      "\n",
      "You can now flag or unflag these squares as you see fit. Remember, your goal is to clear all non-mine squares by marking the mines correctly.\n",
      "\n",
      "What would you like to do next?\n",
      "JSON decode fallback: Expecting value: line 1 column 1 (char 0)\n",
      "Model reply: You're playing Minesweeper and you've got a full board with some squares already marked as having the lowest current mine probability. You'd like me to help you figure out which squares might have mines or not.\n",
      "\n",
      "To start, let's summarize what we know:\n",
      "\n",
      "1. The deterministic solver found several squares with the *lowest current mine probability*, which means these squares are likely to be safe (no mines) or very likely to have a mine.\n",
      "2. We have a full board of 20x20 squares, each represented by a grid cell.\n",
      "\n",
      "Now that we've got this information, what would you like me to do?\n",
      "JSON decode fallback: Expecting value: line 1 column 1 (char 0)\n"
     ]
    },
    {
     "name": "stderr",
     "output_type": "stream",
     "text": [
      "Games:  36%|█████████████▋                        | 9/25 [30:54<56:38, 212.40s/it]"
     ]
    },
    {
     "name": "stdout",
     "output_type": "stream",
     "text": [
      "Model reply: It looks like you're playing Minesweeper!\n",
      "\n",
      "You've got a full board with some numbers and a bunch of unknown squares. The numbers are telling you how many mines are adjacent to each square, but since you don't know which ones are actually mines, you need to use logic to figure it out.\n",
      "\n",
      "Let's start by identifying the squares that are definitely not mines. Can you spot any of those?\n",
      "JSON decode fallback: Expecting value: line 1 column 1 (char 0)\n"
     ]
    },
    {
     "name": "stderr",
     "output_type": "stream",
     "text": [
      "Games:  40%|██████████████▊                      | 10/25 [32:03<41:57, 167.84s/it]"
     ]
    },
    {
     "name": "stdout",
     "output_type": "stream",
     "text": [
      "Model reply: It looks like you're stuck in a Minesweeper game! Don't worry, I'm here to help. Based on the board, it seems that several squares have been determined to be non-mine-free by the deterministic solver.\n",
      "\n",
      "To play safely and efficiently, I'll suggest the following steps:\n",
      "\n",
      "1. Flag all the squares marked with ⚑ as mines.\n",
      "2. Focus on unmarked squares (□) in areas with low probability of having a mine nearby.\n",
      "3. Use the process of elimination to narrow down possible locations for the remaining mines.\n",
      "\n",
      "Let's start by looking at the top-left corner. Since there are no marks or flags, we can assume it's safe to open that square. If it's not a mine, it will reveal some information about the surrounding squares.\n",
      "\n",
      "What do you think? Should we open the top-left corner first or explore another area of the board?\n",
      "JSON decode fallback: Expecting value: line 1 column 1 (char 0)\n",
      "Model reply: It looks like you're playing a game of Minesweeper!\n",
      "\n",
      "The deterministic solver has found several squares with the lowest current mine count, which is 0.075.\n",
      "\n",
      "Here's the full board with unknown squares marked as \"□\" and flagged squares marked as \"⚑\":\n",
      "\n",
      "```\n",
      "□ □ □ □ □ □ □ □ □ □ □ □ □ □ □ □ □ □ □ □\n",
      "□ □ □ □ □ □ □ □ □ □ □ □ □ □ □ □ □ □ □ □\n",
      "□ □ □ □ □ □ □ □ □ □ □ □ □ □ □ □ □ □ □ □\n",
      "...\n",
      "```\n",
      "\n",
      "What would you like to do next?\n",
      "JSON decode fallback: Expecting value: line 3 column 1 (char 2)\n",
      "Model reply: The deterministic solver has identified some squares with the *lowest current mine count*. This is useful information, but we still need to figure out which ones are actually mines.\n",
      "\n",
      "Let's start by focusing on the squares with the lowest mine count. We can try to use logical deductions and patterns to narrow down the possibilities.\n",
      "\n",
      "Which specific squares would you like to investigate first?\n",
      "JSON decode fallback: Expecting value: line 1 column 1 (char 0)\n"
     ]
    },
    {
     "name": "stderr",
     "output_type": "stream",
     "text": [
      "Games:  44%|████████████████▎                    | 11/25 [34:41<38:27, 164.84s/it]"
     ]
    },
    {
     "name": "stdout",
     "output_type": "stream",
     "text": [
      "Model reply: It looks like we have a very large Minesweeper board!\n",
      "\n",
      "To summarize, the deterministic solver found several squares with the *lowest current mine count*. These squares are marked with `P≈0.075`, indicating that they are highly likely to contain mines.\n",
      "\n",
      "Now it's your turn! Since you're playing Minesweeper, you can start by clicking on a square to reveal its contents. If you click on a non-mine square, I'll let you know what the number is (1-8). If you click on a mine, GAME OVER!\n",
      "\n",
      "Which square would you like to choose first?\n",
      "JSON decode fallback: Expecting value: line 1 column 1 (char 0)\n"
     ]
    },
    {
     "name": "stderr",
     "output_type": "stream",
     "text": [
      "Games:  48%|█████████████████▊                   | 12/25 [35:34<28:22, 130.96s/it]"
     ]
    },
    {
     "name": "stdout",
     "output_type": "stream",
     "text": [
      "Model reply: It looks like you're playing Minesweeper and have found a deterministic solver that has identified some squares with the lowest current mine probability.\n",
      "\n",
      "You have a full board with 20x20 cells, each represented by either a square (□) or a flag (⚑). The flags indicate known mines, while the empty squares are unknown.\n",
      "\n",
      "The numbers in parentheses represent the probability of each cell containing a mine. In this case, all probabilities are approximately equal to 0.075, indicating that the solver has found several cells with similar mine likelihoods.\n",
      "\n",
      "Your goal is to mark the remaining unknown cells as safe (□) or suspected mines (⚑). You can use the given probabilities to make educated guesses about which cells might contain mines.\n",
      "\n",
      "What would you like to do next?\n",
      "JSON decode fallback: Expecting value: line 1 column 1 (char 0)\n",
      "Model reply: It looks like you're playing a game of Minesweeper!\n",
      "\n",
      "The deterministic solver has found some squares with the *lowest current mine probability*. These are highlighted with an asterisk (*) followed by the probability value.\n",
      "\n",
      "The full board is shown below, with unknown squares marked as \"□\" and flagged squares marked as ⚑:\n",
      "\n",
      "Can I help you with something specific? Do you want to reveal a square, flag a suspected mine, or try to solve the game in some other way?\n",
      "JSON decode fallback: Expecting value: line 1 column 1 (char 0)\n",
      "Model reply: {\"row\":2,\"col\":17,\"action\":\"open\"}\n"
     ]
    },
    {
     "name": "stderr",
     "output_type": "stream",
     "text": [
      "Games:  52%|███████████████████▏                 | 13/25 [36:42<22:22, 111.84s/it]"
     ]
    },
    {
     "name": "stdout",
     "output_type": "stream",
     "text": [
      "Model reply: {\"row\":2,\"col\":18,\"action\":\"open\"}\n"
     ]
    },
    {
     "name": "stderr",
     "output_type": "stream",
     "text": [
      "Games:  56%|█████████████████████▎                | 14/25 [37:30<16:59, 92.65s/it]"
     ]
    },
    {
     "name": "stdout",
     "output_type": "stream",
     "text": [
      "Model reply: It looks like you're stuck in a bit of a minefield here!\n",
      "\n",
      "As the deterministic solver has found several squares with low current mines, it's a good idea to flag them and avoid stepping on those squares. Let's use ⚑ to mark the flagged squares.\n",
      "\n",
      "Which squares do you want to flag first?\n",
      "JSON decode fallback: Expecting value: line 1 column 1 (char 0)\n"
     ]
    },
    {
     "name": "stderr",
     "output_type": "stream",
     "text": [
      "Games:  60%|██████████████████████▊               | 15/25 [38:25<13:33, 81.32s/it]"
     ]
    },
    {
     "name": "stdout",
     "output_type": "stream",
     "text": [
      "Model reply: It looks like you're playing Minesweeper! Congratulations on finding some squares with the lowest current mine count.\n",
      "\n",
      "Now, let's take a look at the full board. I see that most of the squares are still unknown (□), but there are a few flags (⚑) scattered around. It seems like you've found some potential mines, but it's not clear where they actually are or how many there are in total.\n",
      "\n",
      "To start, let me suggest focusing on one area of the board that has multiple unknown squares and fewer flags. Perhaps we can use process of elimination to figure out which ones are safe to click on. What do you say?\n",
      "JSON decode fallback: Expecting value: line 1 column 1 (char 0)\n"
     ]
    },
    {
     "name": "stderr",
     "output_type": "stream",
     "text": [
      "Games:  64%|████████████████████████▎             | 16/25 [39:32<11:31, 76.85s/it]"
     ]
    },
    {
     "name": "stdout",
     "output_type": "stream",
     "text": [
      "Model reply: The game is heating up!\n",
      "\n",
      "I see that the deterministic solver has identified several squares with the *lowest current mine probability*. That's great, but we still have a lot of unknowns to uncover.\n",
      "\n",
      "Let's review the board:\n",
      "\n",
      "Full board (□ = unknown, ⚑ = flag):\n",
      "□□□□□□□□□□□□□□□□□□□□□□□□□□\n",
      "□□□□□□□□□□□□□□□□□□□□□□□□□□\n",
      "□□□□□□□□□□□□□□□□□□□□□□□□□□\n",
      "□□□□□□□□□□□□□□□□□□□□□□□□□□\n",
      "□□□□□□□□□□□□□□□□□□□□□□□□□□\n",
      "□□□□□□□□□□□□□□□□□□□□□□□□□□\n",
      "□□□□□□□□□□□□□□□□□□□□□□□□□□\n",
      "□□□□□□□□□□□□□□□□□□□□□□□□□□\n",
      "□□□□□□□□□□□□□□□□□□□□□□□□□□\n",
      "□□□□□□□□□□□□□□□□□□□□□□□□□□\n",
      "\n",
      "I can see that the top-left corner has a high probability of being a mine, and the bottom-right corner is likely to be safe. That's useful information!\n",
      "JSON decode fallback: Expecting value: line 1 column 1 (char 0)\n"
     ]
    },
    {
     "name": "stderr",
     "output_type": "stream",
     "text": [
      "Games:  68%|█████████████████████████▊            | 17/25 [40:29<09:28, 71.10s/it]"
     ]
    },
    {
     "name": "stdout",
     "output_type": "stream",
     "text": [
      "Model reply: What a mess!\n",
      "\n",
      "You've got a lot of squares to examine. Let's try to figure out which ones are likely to have mines.\n",
      "\n",
      "Since the deterministic solver found several squares with the *lowest current mine probability*, those squares are good candidates for being mines. Let's mark them as ⚑:\n",
      "\n",
      "⚑ ⚑ ⚑ ⚑ ⚑\n",
      "\n",
      "These squares will have a higher chance of containing mines, but it's not guaranteed. We still need to examine other squares to increase our confidence.\n",
      "\n",
      "Now, let's try to find some safe squares by looking at the surrounding areas. Since there are no other marked squares nearby, we can assume that the ones with the *lowest current mine probability* are probably safe:\n",
      "\n",
      "□ □ □ □ □\n",
      "\n",
      "These squares might be free of mines, but it's not 100% certain.\n",
      "\n",
      "What would you like to do next?\n",
      "JSON decode fallback: Expecting value: line 1 column 1 (char 0)\n"
     ]
    },
    {
     "name": "stderr",
     "output_type": "stream",
     "text": [
      "Games:  72%|███████████████████████████▎          | 18/25 [41:26<07:46, 66.69s/it]"
     ]
    },
    {
     "name": "stdout",
     "output_type": "stream",
     "text": [
      "Model reply: A classic game of Minesweeper!\n",
      "\n",
      "The deterministic solver has identified some squares with the *lowest current mine probability*. Now it's up to me (and you) to decide which squares to flag as potential mines and which ones to clear.\n",
      "\n",
      "Here are my thoughts:\n",
      "\n",
      "1. The numbers on each square represent the number of adjacent mines (horizontally, vertically, or diagonally).\n",
      "2. Since the solver has identified some squares with low mine probability, it's likely that these squares are safe to clear.\n",
      "3. However, we should still be cautious and flag some squares as potential mines to minimize the risk of hitting an actual mine.\n",
      "\n",
      "Let's start by clearing some of the lower-probability squares. Which ones do you think I should start with?\n",
      "JSON decode fallback: Expecting value: line 1 column 1 (char 0)\n"
     ]
    },
    {
     "name": "stderr",
     "output_type": "stream",
     "text": [
      "Games:  76%|████████████████████████████▉         | 19/25 [42:21<06:18, 63.12s/it]"
     ]
    },
    {
     "name": "stdout",
     "output_type": "stream",
     "text": [
      "Model reply: You've got a nice big Minesweeper board there!\n",
      "\n",
      "It looks like the deterministic solver has found several squares with a probability of 0.075 being a mine. These squares are marked with an asterisk (*) in the text output.\n",
      "\n",
      "Now, it's up to you to decide what to do next. You can:\n",
      "\n",
      "1. Flag some of these high-probability squares as likely mines.\n",
      "2. Start clicking on squares to reveal their contents (be careful, though - if you click on a mine, it's game over!).\n",
      "3. Try to use the probability information to make an educated guess about which squares are most likely to be mines.\n",
      "\n",
      "What would you like to do?\n",
      "JSON decode fallback: Expecting value: line 1 column 1 (char 0)\n",
      "Model reply: A game of Minesweeper!\n",
      "\n",
      "The deterministic solver has found several squares with a *lowest current mine*. This means that these squares are most likely to contain a mine. The other squares are still unknown.\n",
      "\n",
      "Here's the full board:\n",
      "```\n",
      "□ □ □ □ □ □ □ □ □ □ □ □ □ □ □ □ □ □ □ □\n",
      "□ □ □ □ □ □ □ □ □ □ □ □ □ □ □ □ □ □ □ □\n",
      "□ □ □ □ □ □ □ □ □ □ □ □ □ □ □ □ □ □ □ □\n",
      "...\n",
      "```\n",
      "Your goal is to flag the squares that are most likely to contain a mine, based on the deterministic solver's analysis. You can do this by clicking on a square and then selecting \"Flag\" from the menu.\n",
      "\n",
      "Which squares will you flag first?\n",
      "JSON decode fallback: Expecting value: line 2 column 1 (char 1)\n",
      "Model reply: You've got a bit of a situation on your hands!\n",
      "\n",
      "As you can see, the deterministic solver has already marked some squares as likely to contain mines. These are the ones with `P≈0.075`, which means that based on the available information, there's a high probability (75%) that a mine is present.\n",
      "\n",
      "Now it's up to you to decide what to do next. You can:\n",
      "\n",
      "1. Flag the suspected mines: If you're feeling cautious, you can place flags on these squares to mark them as likely containing mines.\n",
      "2. Explore other options: Look for patterns or clues in the board that might help you identify where the remaining mines are located.\n",
      "3. Take a calculated risk: Since there's still uncertainty about which squares contain mines, you could try to clear some of the surrounding areas to gather more information before making your next move.\n",
      "\n",
      "Which approach will you choose?\n",
      "JSON decode fallback: Expecting value: line 1 column 1 (char 0)\n"
     ]
    },
    {
     "name": "stderr",
     "output_type": "stream",
     "text": [
      "Games:  80%|████████████████████████████       | 20/25 [1:14:35<52:04, 624.84s/it]"
     ]
    },
    {
     "name": "stdout",
     "output_type": "stream",
     "text": [
      "Model reply: A Minesweeper board!\n",
      "\n",
      "It looks like the deterministic solver found several squares with a high probability of containing mines. I'll highlight those squares for you:\n",
      "\n",
      "* Row 1, Column 2: ⚑\n",
      "* Row 3, Column 5: ⚑\n",
      "* Row 6, Column 9: ⚑\n",
      "* Row 8, Column 12: ⚑\n",
      "* Row 10, Column 15: ⚑\n",
      "\n",
      "These squares have a high probability of containing mines based on the solver's analysis. The rest of the board is still unknown (boxed).\n",
      "\n",
      "What would you like to do next? Do you want to flag some more squares or try to clear out some of these suspected mine locations?\n",
      "JSON decode fallback: Expecting value: line 1 column 1 (char 0)\n",
      "Model reply: The thrill of Minesweeper!\n",
      "\n",
      "Now that the deterministic solver has done its magic, I see a bunch of squares marked with `*`. These are the ones with the lowest current mine count.\n",
      "\n",
      "My next step would be to start exploring these squares and flagging any adjacent cells that have a higher mine count. This will help me to rule out some possibilities and narrow down the search area.\n",
      "\n",
      "Which square do you think I should start with?\n",
      "JSON decode fallback: Expecting value: line 1 column 1 (char 0)\n"
     ]
    },
    {
     "name": "stderr",
     "output_type": "stream",
     "text": [
      "Games:  84%|█████████████████████████████▍     | 21/25 [1:16:08<31:00, 465.25s/it]"
     ]
    },
    {
     "name": "stdout",
     "output_type": "stream",
     "text": [
      "Model reply: It looks like you've got a situation on your hands!\n",
      "\n",
      "With the deterministic solver finding several squares with the *lowest current mine probability*, it's time to put our thinking caps on and come up with a plan.\n",
      "\n",
      "Here are some possible moves:\n",
      "\n",
      "1. **Flag the likely mines**: Since the solver found multiple low-probability squares, we can flag those as potential mines. This will help us narrow down the search area and potentially avoid hitting any real mines.\n",
      "2. **Explore the edges**: Minesweepers often start by exploring the edges of the board. Look for any exposed edges or corners that might give you a clue about where the mines are located.\n",
      "3. **Check for patterns**: Keep an eye out for any patterns or symmetry in the board. If you notice any unusual clustering or alignment, it could be indicative of mine locations.\n",
      "4. **Try to clear a row or column**: Focus on clearing a single row or column at a time. This can help you build up momentum and potentially reveal some important information about where the mines are hiding.\n",
      "\n",
      "What do you think? Do you have any specific questions or concerns about how to proceed?\n",
      "JSON decode fallback: Expecting value: line 1 column 1 (char 0)\n"
     ]
    },
    {
     "name": "stderr",
     "output_type": "stream",
     "text": [
      "Games:  88%|██████████████████████████████▊    | 22/25 [1:16:52<16:56, 338.84s/it]"
     ]
    },
    {
     "name": "stdout",
     "output_type": "stream",
     "text": [
      "Model reply: I see we have a Minesweeper game going on here!\n",
      "\n",
      "Let's take a closer look at the board. I notice that all squares have the same probability of containing a mine, which is 0.075 (or *). This suggests that we can't rely solely on probability to make decisions.\n",
      "\n",
      "However, since we have some information about the mines' locations, let's try to use that to our advantage!\n",
      "\n",
      "Can you please tell me what you'd like to do next? Would you like to:\n",
      "\n",
      "1. Flag a square as possibly containing a mine?\n",
      "2. Reveal a specific square to see if it's a mine or not?\n",
      "3. Try to deduce the location of another mine based on the current information?\n",
      "\n",
      "Let me know your plan, and I'll help you execute it!\n",
      "JSON decode fallback: Expecting value: line 1 column 1 (char 0)\n"
     ]
    },
    {
     "name": "stderr",
     "output_type": "stream",
     "text": [
      "Games:  92%|████████████████████████████████▏  | 23/25 [1:17:31<08:17, 248.96s/it]"
     ]
    },
    {
     "name": "stdout",
     "output_type": "stream",
     "text": [
      "Model reply: It looks like you're playing Minesweeper!\n",
      "\n",
      "You've got a pretty big board with lots of squares, and the deterministic solver has already found some squares with a low probability of containing a mine. That's helpful to know!\n",
      "\n",
      "Now it's your turn to take a closer look at each square and try to figure out which ones might be hiding mines. You can use the numbers to help you out - they give you an idea of how many adjacent squares contain mines.\n",
      "\n",
      "Which square would you like to start with?\n",
      "JSON decode fallback: Expecting value: line 1 column 1 (char 0)\n"
     ]
    },
    {
     "name": "stderr",
     "output_type": "stream",
     "text": [
      "Games:  96%|█████████████████████████████████▌ | 24/25 [1:18:10<03:05, 185.77s/it]"
     ]
    },
    {
     "name": "stdout",
     "output_type": "stream",
     "text": [
      "Model reply: You're playing Minesweeper!\n",
      "\n",
      "I'll help you by pointing out that the deterministic solver has identified several squares with the lowest current mine probability (0.075). These are:\n",
      "\n",
      "* (16, 15) ⚑\n",
      "* (18, 11) ⚑\n",
      "* (19, 17) ⚑\n",
      "\n",
      "You can flag these squares to avoid them.\n",
      "\n",
      "Now it's your turn! Which square would you like to choose next? Remember, you can either reveal a cell or place a flag on an unknown cell.\n",
      "JSON decode fallback: Expecting value: line 1 column 1 (char 0)\n"
     ]
    },
    {
     "name": "stderr",
     "output_type": "stream",
     "text": [
      "Games: 100%|███████████████████████████████████| 25/25 [1:18:52<00:00, 189.30s/it]"
     ]
    },
    {
     "name": "stdout",
     "output_type": "stream",
     "text": [
      "Model reply: It looks like you're trying to solve a Minesweeper puzzle! 🤔\n",
      "\n",
      "The deterministic solver found some squares with the *lowest current mine probability*. These are marked with `*`. Now it's your turn to play and decide which squares to flag (`⚑`) or not.\n",
      "\n",
      "To make a move, simply type the number of the square you want to flag (e.g., \"1\" for the top-left corner). You can also ask for hints or request more information about specific squares. 😊\n",
      "JSON decode fallback: Expecting value: line 1 column 1 (char 0)\n",
      "\n",
      "Batch summary:\n",
      "outcome\n",
      "loss     4\n",
      "win     21\n",
      "dtype: int64\n",
      "Mean moves: 47.28\n"
     ]
    },
    {
     "name": "stderr",
     "output_type": "stream",
     "text": [
      "\n"
     ]
    }
   ],
   "source": [
    "if __name__ == \"__main__\":\n",
    "    run_experiment(n_games=25, rows=20, cols=20, mines=30, temperature=0.2)"
   ]
  },
  {
   "cell_type": "code",
   "execution_count": null,
   "id": "badf5e13-b1d0-4dd2-b033-4e2f4718641c",
   "metadata": {},
   "outputs": [],
   "source": []
  },
  {
   "cell_type": "code",
   "execution_count": 21,
   "id": "04874616-afb1-44b2-9d4c-8d4a6d2c3999",
   "metadata": {},
   "outputs": [],
   "source": []
  }
 ],
 "metadata": {
  "kernelspec": {
   "display_name": "Python 3 (ipykernel)",
   "language": "python",
   "name": "python3"
  },
  "language_info": {
   "codemirror_mode": {
    "name": "ipython",
    "version": 3
   },
   "file_extension": ".py",
   "mimetype": "text/x-python",
   "name": "python",
   "nbconvert_exporter": "python",
   "pygments_lexer": "ipython3",
   "version": "3.12.5"
  }
 },
 "nbformat": 4,
 "nbformat_minor": 5
}
